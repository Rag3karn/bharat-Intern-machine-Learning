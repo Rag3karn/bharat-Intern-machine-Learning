{
 "cells": [
  {
   "cell_type": "code",
   "execution_count": 148,
   "id": "c78520c4",
   "metadata": {},
   "outputs": [
    {
     "data": {
      "text/html": [
       "<div>\n",
       "<style scoped>\n",
       "    .dataframe tbody tr th:only-of-type {\n",
       "        vertical-align: middle;\n",
       "    }\n",
       "\n",
       "    .dataframe tbody tr th {\n",
       "        vertical-align: top;\n",
       "    }\n",
       "\n",
       "    .dataframe thead th {\n",
       "        text-align: right;\n",
       "    }\n",
       "</style>\n",
       "<table border=\"1\" class=\"dataframe\">\n",
       "  <thead>\n",
       "    <tr style=\"text-align: right;\">\n",
       "      <th></th>\n",
       "      <th>Area</th>\n",
       "      <th>BHK</th>\n",
       "      <th>Bathroom</th>\n",
       "      <th>Furnishing</th>\n",
       "      <th>Locality</th>\n",
       "      <th>Parking</th>\n",
       "      <th>Price</th>\n",
       "      <th>Status</th>\n",
       "      <th>Transaction</th>\n",
       "      <th>Type</th>\n",
       "      <th>Per_Sqft</th>\n",
       "    </tr>\n",
       "  </thead>\n",
       "  <tbody>\n",
       "    <tr>\n",
       "      <th>0</th>\n",
       "      <td>800.0</td>\n",
       "      <td>3</td>\n",
       "      <td>2.0</td>\n",
       "      <td>Semi-Furnished</td>\n",
       "      <td>Rohini Sector 25</td>\n",
       "      <td>1.0</td>\n",
       "      <td>6500000</td>\n",
       "      <td>Ready_to_move</td>\n",
       "      <td>New_Property</td>\n",
       "      <td>Builder_Floor</td>\n",
       "      <td>NaN</td>\n",
       "    </tr>\n",
       "    <tr>\n",
       "      <th>1</th>\n",
       "      <td>750.0</td>\n",
       "      <td>2</td>\n",
       "      <td>2.0</td>\n",
       "      <td>Semi-Furnished</td>\n",
       "      <td>J R Designers Floors, Rohini Sector 24</td>\n",
       "      <td>1.0</td>\n",
       "      <td>5000000</td>\n",
       "      <td>Ready_to_move</td>\n",
       "      <td>New_Property</td>\n",
       "      <td>Apartment</td>\n",
       "      <td>6667.0</td>\n",
       "    </tr>\n",
       "    <tr>\n",
       "      <th>2</th>\n",
       "      <td>950.0</td>\n",
       "      <td>2</td>\n",
       "      <td>2.0</td>\n",
       "      <td>Furnished</td>\n",
       "      <td>Citizen Apartment, Rohini Sector 13</td>\n",
       "      <td>1.0</td>\n",
       "      <td>15500000</td>\n",
       "      <td>Ready_to_move</td>\n",
       "      <td>Resale</td>\n",
       "      <td>Apartment</td>\n",
       "      <td>6667.0</td>\n",
       "    </tr>\n",
       "    <tr>\n",
       "      <th>3</th>\n",
       "      <td>600.0</td>\n",
       "      <td>2</td>\n",
       "      <td>2.0</td>\n",
       "      <td>Semi-Furnished</td>\n",
       "      <td>Rohini Sector 24</td>\n",
       "      <td>1.0</td>\n",
       "      <td>4200000</td>\n",
       "      <td>Ready_to_move</td>\n",
       "      <td>Resale</td>\n",
       "      <td>Builder_Floor</td>\n",
       "      <td>6667.0</td>\n",
       "    </tr>\n",
       "    <tr>\n",
       "      <th>4</th>\n",
       "      <td>650.0</td>\n",
       "      <td>2</td>\n",
       "      <td>2.0</td>\n",
       "      <td>Semi-Furnished</td>\n",
       "      <td>Rohini Sector 24 carpet area 650 sqft status R...</td>\n",
       "      <td>1.0</td>\n",
       "      <td>6200000</td>\n",
       "      <td>Ready_to_move</td>\n",
       "      <td>New_Property</td>\n",
       "      <td>Builder_Floor</td>\n",
       "      <td>6667.0</td>\n",
       "    </tr>\n",
       "    <tr>\n",
       "      <th>...</th>\n",
       "      <td>...</td>\n",
       "      <td>...</td>\n",
       "      <td>...</td>\n",
       "      <td>...</td>\n",
       "      <td>...</td>\n",
       "      <td>...</td>\n",
       "      <td>...</td>\n",
       "      <td>...</td>\n",
       "      <td>...</td>\n",
       "      <td>...</td>\n",
       "      <td>...</td>\n",
       "    </tr>\n",
       "    <tr>\n",
       "      <th>1254</th>\n",
       "      <td>4118.0</td>\n",
       "      <td>4</td>\n",
       "      <td>5.0</td>\n",
       "      <td>Unfurnished</td>\n",
       "      <td>Chittaranjan Park</td>\n",
       "      <td>3.0</td>\n",
       "      <td>55000000</td>\n",
       "      <td>Ready_to_move</td>\n",
       "      <td>New_Property</td>\n",
       "      <td>Builder_Floor</td>\n",
       "      <td>12916.0</td>\n",
       "    </tr>\n",
       "    <tr>\n",
       "      <th>1255</th>\n",
       "      <td>1050.0</td>\n",
       "      <td>3</td>\n",
       "      <td>2.0</td>\n",
       "      <td>Semi-Furnished</td>\n",
       "      <td>Chittaranjan Park</td>\n",
       "      <td>3.0</td>\n",
       "      <td>12500000</td>\n",
       "      <td>Ready_to_move</td>\n",
       "      <td>Resale</td>\n",
       "      <td>Builder_Floor</td>\n",
       "      <td>12916.0</td>\n",
       "    </tr>\n",
       "    <tr>\n",
       "      <th>1256</th>\n",
       "      <td>875.0</td>\n",
       "      <td>3</td>\n",
       "      <td>3.0</td>\n",
       "      <td>Semi-Furnished</td>\n",
       "      <td>Chittaranjan Park</td>\n",
       "      <td>3.0</td>\n",
       "      <td>17500000</td>\n",
       "      <td>Ready_to_move</td>\n",
       "      <td>New_Property</td>\n",
       "      <td>Builder_Floor</td>\n",
       "      <td>12916.0</td>\n",
       "    </tr>\n",
       "    <tr>\n",
       "      <th>1257</th>\n",
       "      <td>990.0</td>\n",
       "      <td>2</td>\n",
       "      <td>2.0</td>\n",
       "      <td>Unfurnished</td>\n",
       "      <td>Chittaranjan Park Block A</td>\n",
       "      <td>1.0</td>\n",
       "      <td>11500000</td>\n",
       "      <td>Ready_to_move</td>\n",
       "      <td>Resale</td>\n",
       "      <td>Builder_Floor</td>\n",
       "      <td>12916.0</td>\n",
       "    </tr>\n",
       "    <tr>\n",
       "      <th>1258</th>\n",
       "      <td>11050.0</td>\n",
       "      <td>3</td>\n",
       "      <td>3.0</td>\n",
       "      <td>Unfurnished</td>\n",
       "      <td>Chittaranjan Park</td>\n",
       "      <td>1.0</td>\n",
       "      <td>18500000</td>\n",
       "      <td>Ready_to_move</td>\n",
       "      <td>New_Property</td>\n",
       "      <td>Builder_Floor</td>\n",
       "      <td>12916.0</td>\n",
       "    </tr>\n",
       "  </tbody>\n",
       "</table>\n",
       "<p>1259 rows × 11 columns</p>\n",
       "</div>"
      ],
      "text/plain": [
       "         Area  BHK  Bathroom      Furnishing  \\\n",
       "0       800.0    3       2.0  Semi-Furnished   \n",
       "1       750.0    2       2.0  Semi-Furnished   \n",
       "2       950.0    2       2.0       Furnished   \n",
       "3       600.0    2       2.0  Semi-Furnished   \n",
       "4       650.0    2       2.0  Semi-Furnished   \n",
       "...       ...  ...       ...             ...   \n",
       "1254   4118.0    4       5.0     Unfurnished   \n",
       "1255   1050.0    3       2.0  Semi-Furnished   \n",
       "1256    875.0    3       3.0  Semi-Furnished   \n",
       "1257    990.0    2       2.0     Unfurnished   \n",
       "1258  11050.0    3       3.0     Unfurnished   \n",
       "\n",
       "                                               Locality  Parking     Price  \\\n",
       "0                                      Rohini Sector 25      1.0   6500000   \n",
       "1                J R Designers Floors, Rohini Sector 24      1.0   5000000   \n",
       "2                   Citizen Apartment, Rohini Sector 13      1.0  15500000   \n",
       "3                                      Rohini Sector 24      1.0   4200000   \n",
       "4     Rohini Sector 24 carpet area 650 sqft status R...      1.0   6200000   \n",
       "...                                                 ...      ...       ...   \n",
       "1254                                  Chittaranjan Park      3.0  55000000   \n",
       "1255                                  Chittaranjan Park      3.0  12500000   \n",
       "1256                                  Chittaranjan Park      3.0  17500000   \n",
       "1257                          Chittaranjan Park Block A      1.0  11500000   \n",
       "1258                                  Chittaranjan Park      1.0  18500000   \n",
       "\n",
       "             Status   Transaction           Type  Per_Sqft  \n",
       "0     Ready_to_move  New_Property  Builder_Floor       NaN  \n",
       "1     Ready_to_move  New_Property      Apartment    6667.0  \n",
       "2     Ready_to_move        Resale      Apartment    6667.0  \n",
       "3     Ready_to_move        Resale  Builder_Floor    6667.0  \n",
       "4     Ready_to_move  New_Property  Builder_Floor    6667.0  \n",
       "...             ...           ...            ...       ...  \n",
       "1254  Ready_to_move  New_Property  Builder_Floor   12916.0  \n",
       "1255  Ready_to_move        Resale  Builder_Floor   12916.0  \n",
       "1256  Ready_to_move  New_Property  Builder_Floor   12916.0  \n",
       "1257  Ready_to_move        Resale  Builder_Floor   12916.0  \n",
       "1258  Ready_to_move  New_Property  Builder_Floor   12916.0  \n",
       "\n",
       "[1259 rows x 11 columns]"
      ]
     },
     "execution_count": 148,
     "metadata": {},
     "output_type": "execute_result"
    }
   ],
   "source": [
    "import numpy as np\n",
    "import pandas as pd\n",
    "df=pd.read_csv('task_1_house_prediction_price.csv')\n",
    "df"
   ]
  },
  {
   "cell_type": "code",
   "execution_count": 188,
   "id": "b2e3ebf3",
   "metadata": {},
   "outputs": [
    {
     "name": "stdout",
     "output_type": "stream",
     "text": [
      "<class 'pandas.core.frame.DataFrame'>\n",
      "Int64Index: 1257 entries, 0 to 1258\n",
      "Data columns (total 11 columns):\n",
      " #   Column       Non-Null Count  Dtype  \n",
      "---  ------       --------------  -----  \n",
      " 0   Area         1257 non-null   float64\n",
      " 1   BHK          1257 non-null   int64  \n",
      " 2   Bathroom     1257 non-null   int32  \n",
      " 3   Furnishing   1252 non-null   object \n",
      " 4   Locality     1257 non-null   object \n",
      " 5   Parking      1226 non-null   float64\n",
      " 6   Price        1257 non-null   int64  \n",
      " 7   Status       1257 non-null   object \n",
      " 8   Transaction  1257 non-null   object \n",
      " 9   Type         1252 non-null   object \n",
      " 10  Per_Sqft     1018 non-null   float64\n",
      "dtypes: float64(3), int32(1), int64(2), object(5)\n",
      "memory usage: 112.9+ KB\n"
     ]
    }
   ],
   "source": [
    "df.info()"
   ]
  },
  {
   "cell_type": "code",
   "execution_count": 189,
   "id": "7422cf2c",
   "metadata": {},
   "outputs": [],
   "source": [
    "df=df.dropna(subset=['BHK'])"
   ]
  },
  {
   "cell_type": "code",
   "execution_count": 190,
   "id": "1a11388b",
   "metadata": {},
   "outputs": [],
   "source": [
    "df=df.dropna(subset=['Bathroom'])"
   ]
  },
  {
   "cell_type": "code",
   "execution_count": 191,
   "id": "2a000a29",
   "metadata": {},
   "outputs": [],
   "source": [
    "#Making the Machine Learning Model to predict the house prices\n",
    "#The Machine learning model can be made my using any of the regression method-\n",
    "#i)Linear Regression\n",
    "#ii)Logistic Regression\n",
    "#iii)Polynomial Regression\n",
    "#......etc\n",
    "#Task is asking to make the machine learning model using Linear regression"
   ]
  },
  {
   "cell_type": "code",
   "execution_count": 192,
   "id": "58fdd3b3",
   "metadata": {},
   "outputs": [
    {
     "data": {
      "text/plain": [
       "array([[3, 2],\n",
       "       [2, 2],\n",
       "       [2, 2],\n",
       "       ...,\n",
       "       [3, 3],\n",
       "       [2, 2],\n",
       "       [3, 3]], dtype=int64)"
      ]
     },
     "execution_count": 192,
     "metadata": {},
     "output_type": "execute_result"
    }
   ],
   "source": [
    "x=df.iloc[:,1:3].values\n",
    "x"
   ]
  },
  {
   "cell_type": "code",
   "execution_count": 193,
   "id": "eeb1eec8",
   "metadata": {},
   "outputs": [
    {
     "data": {
      "text/plain": [
       "array([ 6500000,  5000000, 15500000, ..., 17500000, 11500000, 18500000],\n",
       "      dtype=int64)"
      ]
     },
     "execution_count": 193,
     "metadata": {},
     "output_type": "execute_result"
    }
   ],
   "source": [
    "y=df.iloc[:,6].values\n",
    "y"
   ]
  },
  {
   "cell_type": "code",
   "execution_count": 194,
   "id": "62ae96bc",
   "metadata": {},
   "outputs": [],
   "source": [
    "#Machine Learning Model\n",
    "from sklearn.linear_model import LinearRegression\n",
    "from sklearn.model_selection import train_test_split\n",
    "x_train,x_test,y_train,y_test = train_test_split(x,y,test_size=0.2,random_state = 0)\n",
    "model=LinearRegression()"
   ]
  },
  {
   "cell_type": "code",
   "execution_count": 195,
   "id": "528c9e58",
   "metadata": {},
   "outputs": [
    {
     "data": {
      "text/html": [
       "<style>#sk-container-id-18 {color: black;background-color: white;}#sk-container-id-18 pre{padding: 0;}#sk-container-id-18 div.sk-toggleable {background-color: white;}#sk-container-id-18 label.sk-toggleable__label {cursor: pointer;display: block;width: 100%;margin-bottom: 0;padding: 0.3em;box-sizing: border-box;text-align: center;}#sk-container-id-18 label.sk-toggleable__label-arrow:before {content: \"▸\";float: left;margin-right: 0.25em;color: #696969;}#sk-container-id-18 label.sk-toggleable__label-arrow:hover:before {color: black;}#sk-container-id-18 div.sk-estimator:hover label.sk-toggleable__label-arrow:before {color: black;}#sk-container-id-18 div.sk-toggleable__content {max-height: 0;max-width: 0;overflow: hidden;text-align: left;background-color: #f0f8ff;}#sk-container-id-18 div.sk-toggleable__content pre {margin: 0.2em;color: black;border-radius: 0.25em;background-color: #f0f8ff;}#sk-container-id-18 input.sk-toggleable__control:checked~div.sk-toggleable__content {max-height: 200px;max-width: 100%;overflow: auto;}#sk-container-id-18 input.sk-toggleable__control:checked~label.sk-toggleable__label-arrow:before {content: \"▾\";}#sk-container-id-18 div.sk-estimator input.sk-toggleable__control:checked~label.sk-toggleable__label {background-color: #d4ebff;}#sk-container-id-18 div.sk-label input.sk-toggleable__control:checked~label.sk-toggleable__label {background-color: #d4ebff;}#sk-container-id-18 input.sk-hidden--visually {border: 0;clip: rect(1px 1px 1px 1px);clip: rect(1px, 1px, 1px, 1px);height: 1px;margin: -1px;overflow: hidden;padding: 0;position: absolute;width: 1px;}#sk-container-id-18 div.sk-estimator {font-family: monospace;background-color: #f0f8ff;border: 1px dotted black;border-radius: 0.25em;box-sizing: border-box;margin-bottom: 0.5em;}#sk-container-id-18 div.sk-estimator:hover {background-color: #d4ebff;}#sk-container-id-18 div.sk-parallel-item::after {content: \"\";width: 100%;border-bottom: 1px solid gray;flex-grow: 1;}#sk-container-id-18 div.sk-label:hover label.sk-toggleable__label {background-color: #d4ebff;}#sk-container-id-18 div.sk-serial::before {content: \"\";position: absolute;border-left: 1px solid gray;box-sizing: border-box;top: 0;bottom: 0;left: 50%;z-index: 0;}#sk-container-id-18 div.sk-serial {display: flex;flex-direction: column;align-items: center;background-color: white;padding-right: 0.2em;padding-left: 0.2em;position: relative;}#sk-container-id-18 div.sk-item {position: relative;z-index: 1;}#sk-container-id-18 div.sk-parallel {display: flex;align-items: stretch;justify-content: center;background-color: white;position: relative;}#sk-container-id-18 div.sk-item::before, #sk-container-id-18 div.sk-parallel-item::before {content: \"\";position: absolute;border-left: 1px solid gray;box-sizing: border-box;top: 0;bottom: 0;left: 50%;z-index: -1;}#sk-container-id-18 div.sk-parallel-item {display: flex;flex-direction: column;z-index: 1;position: relative;background-color: white;}#sk-container-id-18 div.sk-parallel-item:first-child::after {align-self: flex-end;width: 50%;}#sk-container-id-18 div.sk-parallel-item:last-child::after {align-self: flex-start;width: 50%;}#sk-container-id-18 div.sk-parallel-item:only-child::after {width: 0;}#sk-container-id-18 div.sk-dashed-wrapped {border: 1px dashed gray;margin: 0 0.4em 0.5em 0.4em;box-sizing: border-box;padding-bottom: 0.4em;background-color: white;}#sk-container-id-18 div.sk-label label {font-family: monospace;font-weight: bold;display: inline-block;line-height: 1.2em;}#sk-container-id-18 div.sk-label-container {text-align: center;}#sk-container-id-18 div.sk-container {/* jupyter's `normalize.less` sets `[hidden] { display: none; }` but bootstrap.min.css set `[hidden] { display: none !important; }` so we also need the `!important` here to be able to override the default hidden behavior on the sphinx rendered scikit-learn.org. See: https://github.com/scikit-learn/scikit-learn/issues/21755 */display: inline-block !important;position: relative;}#sk-container-id-18 div.sk-text-repr-fallback {display: none;}</style><div id=\"sk-container-id-18\" class=\"sk-top-container\"><div class=\"sk-text-repr-fallback\"><pre>LinearRegression()</pre><b>In a Jupyter environment, please rerun this cell to show the HTML representation or trust the notebook. <br />On GitHub, the HTML representation is unable to render, please try loading this page with nbviewer.org.</b></div><div class=\"sk-container\" hidden><div class=\"sk-item\"><div class=\"sk-estimator sk-toggleable\"><input class=\"sk-toggleable__control sk-hidden--visually\" id=\"sk-estimator-id-18\" type=\"checkbox\" checked><label for=\"sk-estimator-id-18\" class=\"sk-toggleable__label sk-toggleable__label-arrow\">LinearRegression</label><div class=\"sk-toggleable__content\"><pre>LinearRegression()</pre></div></div></div></div></div>"
      ],
      "text/plain": [
       "LinearRegression()"
      ]
     },
     "execution_count": 195,
     "metadata": {},
     "output_type": "execute_result"
    }
   ],
   "source": [
    "model.fit(x_train,y_train)"
   ]
  },
  {
   "cell_type": "code",
   "execution_count": 196,
   "id": "cfa102b6",
   "metadata": {},
   "outputs": [
    {
     "data": {
      "text/plain": [
       "array([30042710.57028824, 12293156.14816627, 28951897.17976945,\n",
       "       28951897.17976945, 11202342.75764747, 28951897.17976945,\n",
       "       12293156.14816627, -5456398.27395572, 12293156.14816627,\n",
       "       46701451.60189144, 12293156.14816627, 28951897.17976945,\n",
       "       12293156.14816627, 10111529.36712868, 11202342.75764747,\n",
       "       28951897.17976945, 28951897.17976945, 11202342.75764747,\n",
       "       12293156.14816627, 13383969.53868505, 28951897.17976945,\n",
       "       11202342.75764747, 28951897.17976945, 64451006.02401343,\n",
       "       28951897.17976945, 12293156.14816627, 11202342.75764747,\n",
       "       -6547211.66447451, -6547211.66447451, 12293156.14816627,\n",
       "       32224337.35132582, 28951897.17976945, 12293156.14816627,\n",
       "       28951897.17976945, 46701451.60189144, -6547211.66447451,\n",
       "       63360192.63349463, 11202342.75764747, 12293156.14816627,\n",
       "       12293156.14816627, 46701451.60189144, 11202342.75764747,\n",
       "       46701451.60189144, 12293156.14816627, -6547211.66447451,\n",
       "       11202342.75764747, 12293156.14816627, 12293156.14816627,\n",
       "       28951897.17976945, 28951897.17976945, 11202342.75764747,\n",
       "       64451006.02401343, 11202342.75764747, 11202342.75764747,\n",
       "       28951897.17976945, 11202342.75764747, 28951897.17976945,\n",
       "       46701451.60189144, 28951897.17976945, 12293156.14816627,\n",
       "       12293156.14816627, 11202342.75764747, 28951897.17976945,\n",
       "       11202342.75764747, 11202342.75764747, 63360192.63349463,\n",
       "       11202342.75764747, -6547211.66447451, 12293156.14816627,\n",
       "       12293156.14816627, -5456398.27395572, 30042710.57028824,\n",
       "       12293156.14816627, 11202342.75764747, 11202342.75764747,\n",
       "       28951897.17976945, 28951897.17976945, 12293156.14816627,\n",
       "       46701451.60189144, 11202342.75764747, 46701451.60189144,\n",
       "       12293156.14816627, 30042710.57028824, 28951897.17976945,\n",
       "       11202342.75764747, 11202342.75764747, 12293156.14816627,\n",
       "       30042710.57028824, 11202342.75764747, 28951897.17976945,\n",
       "       28951897.17976945, 12293156.14816627, 30042710.57028824,\n",
       "       11202342.75764747, 28951897.17976945, 28951897.17976945,\n",
       "       11202342.75764747, 28951897.17976945, 12293156.14816627,\n",
       "       11202342.75764747, 11202342.75764747, 64451006.02401343,\n",
       "       -6547211.66447451, 46701451.60189144, -5456398.27395572,\n",
       "       11202342.75764747, 30042710.57028824, -6547211.66447451,\n",
       "       11202342.75764747, 12293156.14816627, 28951897.17976945,\n",
       "       -5456398.27395572, -6547211.66447451, 28951897.17976945,\n",
       "       46701451.60189144, 63360192.63349463, 28951897.17976945,\n",
       "       28951897.17976945, 28951897.17976945, 11202342.75764747,\n",
       "       28951897.17976945, -5456398.27395572, 11202342.75764747,\n",
       "       47792264.99241023, 46701451.60189144, 28951897.17976945,\n",
       "       28951897.17976945, 28951897.17976945, 28951897.17976945,\n",
       "       13383969.53868505, 11202342.75764747, 63360192.63349463,\n",
       "       10111529.36712868, 28951897.17976945, 12293156.14816627,\n",
       "       11202342.75764747, 28951897.17976945, -5456398.27395572,\n",
       "       11202342.75764747, 12293156.14816627, 28951897.17976945,\n",
       "       28951897.17976945, 28951897.17976945, 12293156.14816627,\n",
       "       46701451.60189144, 28951897.17976945, 63360192.63349463,\n",
       "       45610638.21137266, 11202342.75764747, 12293156.14816627,\n",
       "       11202342.75764747, 12293156.14816627, 11202342.75764747,\n",
       "       -6547211.66447451, 12293156.14816627, 28951897.17976945,\n",
       "       11202342.75764747, 28951897.17976945, 11202342.75764747,\n",
       "       11202342.75764747, 11202342.75764747, -6547211.66447451,\n",
       "       28951897.17976945, 63360192.63349463, 12293156.14816627,\n",
       "       28951897.17976945, 11202342.75764747, -6547211.66447451,\n",
       "       11202342.75764747, 28951897.17976945, 12293156.14816627,\n",
       "       46701451.60189144, 11202342.75764747, 64451006.02401343,\n",
       "       46701451.60189144, 10111529.36712868, 63360192.63349463,\n",
       "       28951897.17976945, 11202342.75764747, 12293156.14816627,\n",
       "       28951897.17976945, 63360192.63349463, 11202342.75764747,\n",
       "       45610638.21137266, -6547211.66447451, 11202342.75764747,\n",
       "       30042710.57028824, 11202342.75764747, 28951897.17976945,\n",
       "       12293156.14816627, -6547211.66447451, 11202342.75764747,\n",
       "       11202342.75764747, 12293156.14816627, -6547211.66447451,\n",
       "       46701451.60189144, 46701451.60189144, 28951897.17976945,\n",
       "       63360192.63349463, -5456398.27395572, 63360192.63349463,\n",
       "       28951897.17976945, 12293156.14816627, 10111529.36712868,\n",
       "       12293156.14816627, 10111529.36712868, 46701451.60189144,\n",
       "       11202342.75764747, 12293156.14816627, 11202342.75764747,\n",
       "       28951897.17976945, 28951897.17976945, 46701451.60189144,\n",
       "       12293156.14816627, 28951897.17976945, 12293156.14816627,\n",
       "       11202342.75764747, 28951897.17976945, 28951897.17976945,\n",
       "       28951897.17976945, -6547211.66447451, -6547211.66447451,\n",
       "       11202342.75764747, 11202342.75764747, 13383969.53868505,\n",
       "       64451006.02401343, 28951897.17976945, 12293156.14816627,\n",
       "       12293156.14816627, 12293156.14816627, -5456398.27395572,\n",
       "       27861083.78925066, 28951897.17976945, 12293156.14816627,\n",
       "       11202342.75764747, 11202342.75764747, 45610638.21137266,\n",
       "       11202342.75764747, 46701451.60189144, 30042710.57028824,\n",
       "       30042710.57028824, 12293156.14816627, 28951897.17976945,\n",
       "       11202342.75764747, 11202342.75764747, 46701451.60189144,\n",
       "       46701451.60189144, 11202342.75764747, 11202342.75764747,\n",
       "       11202342.75764747, 12293156.14816627, 28951897.17976945])"
      ]
     },
     "execution_count": 196,
     "metadata": {},
     "output_type": "execute_result"
    }
   ],
   "source": [
    "#Predicting the output\n",
    "y_pred=model.predict(x_test)\n",
    "y_pred#PREDICTED VALUES"
   ]
  },
  {
   "cell_type": "code",
   "execution_count": 197,
   "id": "14f8145f",
   "metadata": {},
   "outputs": [
    {
     "data": {
      "text/plain": [
       "array([ 15500000,   5510000,  22000000,  15000000,   2800000,  25000000,\n",
       "         4500000,   7500000,   7000000,  87500000,  13100000,  19500000,\n",
       "        20000000,   7000000,  12500000,   9500000,   8500000,  16500000,\n",
       "        14800000,  17400000,  12000000,  14600000,  24000000,  51000000,\n",
       "        19000000,   4620000,  18500000,   1000000,   8000000,  15000000,\n",
       "         5100000,   4500000,  19000000,  26000000,  30000000,   2000000,\n",
       "        65000000,  18000000,   4620000,   6000000,  47500000,  12700000,\n",
       "        27500000,  13500000,   3000000,   5000000,   7020000,  23500000,\n",
       "        25000000,  33500000,   6000000, 220000000,   4500000,  14600000,\n",
       "        17200000,   5000000,  13500000,  80000000,  30000000,   4000000,\n",
       "         5650000,   2500000,  16500000,   1500000,   3100000,  74500000,\n",
       "         8000000,   3000000,  14500000,   6000000,   1400000,  13000000,\n",
       "         5900000,   3310000,  16500000,  19000000,  35000000,   3800000,\n",
       "        93000000,  13200000,  50000000,   6000000,   9500000,  12000000,\n",
       "        13800000,   5000000,   8000000,  25500000,  24800000,  57000000,\n",
       "        17500000,   6000000,  20000000,  24900000,  15500000,  22000000,\n",
       "         3500000,  24500000,  22500000,  15000000,   3300000,  65000000,\n",
       "         1500000,  24500000,   3500000,  10000000,  23100000,   2350000,\n",
       "         2500000,  14900000,  25000000,   1900000,   4300000,  29000000,\n",
       "        70000000, 240000000,  18000000,  23500000,   9300000,   2300000,\n",
       "        21000000,   3800000,  10000000,  17500000,  40000000,  26500000,\n",
       "        70000000,  21000000,   6800000,  21500000,  15000000, 190000000,\n",
       "         6400000,  19000000,   4500000,  21500000,  25500000,   3500000,\n",
       "         8100000,   7000000,  26000000,  30000000,  12500000,   4700000,\n",
       "        29000000,  18500000,  51000000,  34300000,  15000000,  35000000,\n",
       "         3000000,  12000000,   3000000,   1700000,  16000000,   8500000,\n",
       "        12000000,  14200000,   3200000,  14000000,  10000000,   2400000,\n",
       "        22500000,  50000000,   4800000,  37500000,   3500000,   1700000,\n",
       "        10700000,  15000000,   6000000,  55000000,  10800000,  65000000,\n",
       "        12500000,   7500000,  72500000,  30000000,   2800000,   6000000,\n",
       "        24500000,  51000000,   2600000,  85000000,   1700000,  16500000,\n",
       "        13000000,  17500000,  11600000,  15800000,   1650000,   4600000,\n",
       "         4100000,   6800000,   1500000,  57500000,  12000000,  26000000,\n",
       "        38000000,  17500000,  55000000,  21900000,   6500000,   2700000,\n",
       "         5510000,   1500000,  52300000,  11500000,   6200000,  16500000,\n",
       "        20000000,  22500000,  75000000,   6300000,  50000000,   5500000,\n",
       "        15000000,  22500000,  43500000,  27000000,   3400000,   3500000,\n",
       "         3500000,   2500000,  17800000, 135500000,  23000000,  20900000,\n",
       "        21000000,   6600000,   2600000,   7500000,  26000000,  17000000,\n",
       "         8000000,  24900000,  28500000,  11700000,  30000000,  23500000,\n",
       "        14000000,   6200000,  10800000,  15000000,   5000000,  70000000,\n",
       "        12500000,  12500000,  10500000,   1900000,  17400000,  16000000],\n",
       "      dtype=int64)"
      ]
     },
     "execution_count": 197,
     "metadata": {},
     "output_type": "execute_result"
    }
   ],
   "source": [
    "y_test#ACTUAL VALUES"
   ]
  },
  {
   "cell_type": "code",
   "execution_count": 198,
   "id": "5c6df06d",
   "metadata": {
    "scrolled": false
   },
   "outputs": [
    {
     "data": {
      "text/plain": [
       "array([10111529.36712868])"
      ]
     },
     "execution_count": 198,
     "metadata": {},
     "output_type": "execute_result"
    }
   ],
   "source": [
    "#Indivisual Prediction for any input.\n",
    "model.predict([[1,2]])"
   ]
  },
  {
   "cell_type": "code",
   "execution_count": 199,
   "id": "98a63e6f",
   "metadata": {},
   "outputs": [
    {
     "data": {
      "text/plain": [
       "array([11202342.75764747])"
      ]
     },
     "execution_count": 199,
     "metadata": {},
     "output_type": "execute_result"
    }
   ],
   "source": [
    "model.predict([[2,2]])"
   ]
  },
  {
   "cell_type": "code",
   "execution_count": 200,
   "id": "d8630fc3",
   "metadata": {},
   "outputs": [
    {
     "data": {
      "text/plain": [
       "array([12293156.14816627])"
      ]
     },
     "execution_count": 200,
     "metadata": {},
     "output_type": "execute_result"
    }
   ],
   "source": [
    "model.predict([[3,2]])"
   ]
  },
  {
   "cell_type": "code",
   "execution_count": 204,
   "id": "ce5626a7",
   "metadata": {},
   "outputs": [
    {
     "data": {
      "text/plain": [
       "0.4608044420841291"
      ]
     },
     "execution_count": 204,
     "metadata": {},
     "output_type": "execute_result"
    }
   ],
   "source": [
    "from sklearn.metrics import r2_score\n",
    "accuracy = r2_score(y_test,y_pred)\n",
    "accuracy#The accuracy of this machine learning model is 0.46."
   ]
  }
 ],
 "metadata": {
  "kernelspec": {
   "display_name": "Python 3 (ipykernel)",
   "language": "python",
   "name": "python3"
  },
  "language_info": {
   "codemirror_mode": {
    "name": "ipython",
    "version": 3
   },
   "file_extension": ".py",
   "mimetype": "text/x-python",
   "name": "python",
   "nbconvert_exporter": "python",
   "pygments_lexer": "ipython3",
   "version": "3.11.3"
  }
 },
 "nbformat": 4,
 "nbformat_minor": 5
}
