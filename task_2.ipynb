{
 "cells": [
  {
   "cell_type": "code",
   "execution_count": 100,
   "id": "b84cb5ba",
   "metadata": {},
   "outputs": [
    {
     "data": {
      "text/html": [
       "<div>\n",
       "<style scoped>\n",
       "    .dataframe tbody tr th:only-of-type {\n",
       "        vertical-align: middle;\n",
       "    }\n",
       "\n",
       "    .dataframe tbody tr th {\n",
       "        vertical-align: top;\n",
       "    }\n",
       "\n",
       "    .dataframe thead th {\n",
       "        text-align: right;\n",
       "    }\n",
       "</style>\n",
       "<table border=\"1\" class=\"dataframe\">\n",
       "  <thead>\n",
       "    <tr style=\"text-align: right;\">\n",
       "      <th></th>\n",
       "      <th>fixed acidity</th>\n",
       "      <th>volatile acidity</th>\n",
       "      <th>citric acid</th>\n",
       "      <th>residual sugar</th>\n",
       "      <th>chlorides</th>\n",
       "      <th>free sulfur dioxide</th>\n",
       "      <th>total sulfur dioxide</th>\n",
       "      <th>density</th>\n",
       "      <th>pH</th>\n",
       "      <th>sulphates</th>\n",
       "      <th>alcohol</th>\n",
       "      <th>quality</th>\n",
       "      <th>Id</th>\n",
       "    </tr>\n",
       "  </thead>\n",
       "  <tbody>\n",
       "    <tr>\n",
       "      <th>0</th>\n",
       "      <td>7.4</td>\n",
       "      <td>0.700</td>\n",
       "      <td>0.00</td>\n",
       "      <td>1.9</td>\n",
       "      <td>0.076</td>\n",
       "      <td>11.0</td>\n",
       "      <td>34.0</td>\n",
       "      <td>0.99780</td>\n",
       "      <td>3.51</td>\n",
       "      <td>0.56</td>\n",
       "      <td>9.4</td>\n",
       "      <td>5</td>\n",
       "      <td>0</td>\n",
       "    </tr>\n",
       "    <tr>\n",
       "      <th>1</th>\n",
       "      <td>7.8</td>\n",
       "      <td>0.880</td>\n",
       "      <td>0.00</td>\n",
       "      <td>2.6</td>\n",
       "      <td>0.098</td>\n",
       "      <td>25.0</td>\n",
       "      <td>67.0</td>\n",
       "      <td>0.99680</td>\n",
       "      <td>3.20</td>\n",
       "      <td>0.68</td>\n",
       "      <td>9.8</td>\n",
       "      <td>5</td>\n",
       "      <td>1</td>\n",
       "    </tr>\n",
       "    <tr>\n",
       "      <th>2</th>\n",
       "      <td>7.8</td>\n",
       "      <td>0.760</td>\n",
       "      <td>0.04</td>\n",
       "      <td>2.3</td>\n",
       "      <td>0.092</td>\n",
       "      <td>15.0</td>\n",
       "      <td>54.0</td>\n",
       "      <td>0.99700</td>\n",
       "      <td>3.26</td>\n",
       "      <td>0.65</td>\n",
       "      <td>9.8</td>\n",
       "      <td>5</td>\n",
       "      <td>2</td>\n",
       "    </tr>\n",
       "    <tr>\n",
       "      <th>3</th>\n",
       "      <td>11.2</td>\n",
       "      <td>0.280</td>\n",
       "      <td>0.56</td>\n",
       "      <td>1.9</td>\n",
       "      <td>0.075</td>\n",
       "      <td>17.0</td>\n",
       "      <td>60.0</td>\n",
       "      <td>0.99800</td>\n",
       "      <td>3.16</td>\n",
       "      <td>0.58</td>\n",
       "      <td>9.8</td>\n",
       "      <td>6</td>\n",
       "      <td>3</td>\n",
       "    </tr>\n",
       "    <tr>\n",
       "      <th>4</th>\n",
       "      <td>7.4</td>\n",
       "      <td>0.700</td>\n",
       "      <td>0.00</td>\n",
       "      <td>1.9</td>\n",
       "      <td>0.076</td>\n",
       "      <td>11.0</td>\n",
       "      <td>34.0</td>\n",
       "      <td>0.99780</td>\n",
       "      <td>3.51</td>\n",
       "      <td>0.56</td>\n",
       "      <td>9.4</td>\n",
       "      <td>5</td>\n",
       "      <td>4</td>\n",
       "    </tr>\n",
       "    <tr>\n",
       "      <th>...</th>\n",
       "      <td>...</td>\n",
       "      <td>...</td>\n",
       "      <td>...</td>\n",
       "      <td>...</td>\n",
       "      <td>...</td>\n",
       "      <td>...</td>\n",
       "      <td>...</td>\n",
       "      <td>...</td>\n",
       "      <td>...</td>\n",
       "      <td>...</td>\n",
       "      <td>...</td>\n",
       "      <td>...</td>\n",
       "      <td>...</td>\n",
       "    </tr>\n",
       "    <tr>\n",
       "      <th>1138</th>\n",
       "      <td>6.3</td>\n",
       "      <td>0.510</td>\n",
       "      <td>0.13</td>\n",
       "      <td>2.3</td>\n",
       "      <td>0.076</td>\n",
       "      <td>29.0</td>\n",
       "      <td>40.0</td>\n",
       "      <td>0.99574</td>\n",
       "      <td>3.42</td>\n",
       "      <td>0.75</td>\n",
       "      <td>11.0</td>\n",
       "      <td>6</td>\n",
       "      <td>1592</td>\n",
       "    </tr>\n",
       "    <tr>\n",
       "      <th>1139</th>\n",
       "      <td>6.8</td>\n",
       "      <td>0.620</td>\n",
       "      <td>0.08</td>\n",
       "      <td>1.9</td>\n",
       "      <td>0.068</td>\n",
       "      <td>28.0</td>\n",
       "      <td>38.0</td>\n",
       "      <td>0.99651</td>\n",
       "      <td>3.42</td>\n",
       "      <td>0.82</td>\n",
       "      <td>9.5</td>\n",
       "      <td>6</td>\n",
       "      <td>1593</td>\n",
       "    </tr>\n",
       "    <tr>\n",
       "      <th>1140</th>\n",
       "      <td>6.2</td>\n",
       "      <td>0.600</td>\n",
       "      <td>0.08</td>\n",
       "      <td>2.0</td>\n",
       "      <td>0.090</td>\n",
       "      <td>32.0</td>\n",
       "      <td>44.0</td>\n",
       "      <td>0.99490</td>\n",
       "      <td>3.45</td>\n",
       "      <td>0.58</td>\n",
       "      <td>10.5</td>\n",
       "      <td>5</td>\n",
       "      <td>1594</td>\n",
       "    </tr>\n",
       "    <tr>\n",
       "      <th>1141</th>\n",
       "      <td>5.9</td>\n",
       "      <td>0.550</td>\n",
       "      <td>0.10</td>\n",
       "      <td>2.2</td>\n",
       "      <td>0.062</td>\n",
       "      <td>39.0</td>\n",
       "      <td>51.0</td>\n",
       "      <td>0.99512</td>\n",
       "      <td>3.52</td>\n",
       "      <td>0.76</td>\n",
       "      <td>11.2</td>\n",
       "      <td>6</td>\n",
       "      <td>1595</td>\n",
       "    </tr>\n",
       "    <tr>\n",
       "      <th>1142</th>\n",
       "      <td>5.9</td>\n",
       "      <td>0.645</td>\n",
       "      <td>0.12</td>\n",
       "      <td>2.0</td>\n",
       "      <td>0.075</td>\n",
       "      <td>32.0</td>\n",
       "      <td>44.0</td>\n",
       "      <td>0.99547</td>\n",
       "      <td>3.57</td>\n",
       "      <td>0.71</td>\n",
       "      <td>10.2</td>\n",
       "      <td>5</td>\n",
       "      <td>1597</td>\n",
       "    </tr>\n",
       "  </tbody>\n",
       "</table>\n",
       "<p>1143 rows × 13 columns</p>\n",
       "</div>"
      ],
      "text/plain": [
       "      fixed acidity  volatile acidity  citric acid  residual sugar  chlorides  \\\n",
       "0               7.4             0.700         0.00             1.9      0.076   \n",
       "1               7.8             0.880         0.00             2.6      0.098   \n",
       "2               7.8             0.760         0.04             2.3      0.092   \n",
       "3              11.2             0.280         0.56             1.9      0.075   \n",
       "4               7.4             0.700         0.00             1.9      0.076   \n",
       "...             ...               ...          ...             ...        ...   \n",
       "1138            6.3             0.510         0.13             2.3      0.076   \n",
       "1139            6.8             0.620         0.08             1.9      0.068   \n",
       "1140            6.2             0.600         0.08             2.0      0.090   \n",
       "1141            5.9             0.550         0.10             2.2      0.062   \n",
       "1142            5.9             0.645         0.12             2.0      0.075   \n",
       "\n",
       "      free sulfur dioxide  total sulfur dioxide  density    pH  sulphates  \\\n",
       "0                    11.0                  34.0  0.99780  3.51       0.56   \n",
       "1                    25.0                  67.0  0.99680  3.20       0.68   \n",
       "2                    15.0                  54.0  0.99700  3.26       0.65   \n",
       "3                    17.0                  60.0  0.99800  3.16       0.58   \n",
       "4                    11.0                  34.0  0.99780  3.51       0.56   \n",
       "...                   ...                   ...      ...   ...        ...   \n",
       "1138                 29.0                  40.0  0.99574  3.42       0.75   \n",
       "1139                 28.0                  38.0  0.99651  3.42       0.82   \n",
       "1140                 32.0                  44.0  0.99490  3.45       0.58   \n",
       "1141                 39.0                  51.0  0.99512  3.52       0.76   \n",
       "1142                 32.0                  44.0  0.99547  3.57       0.71   \n",
       "\n",
       "      alcohol  quality    Id  \n",
       "0         9.4        5     0  \n",
       "1         9.8        5     1  \n",
       "2         9.8        5     2  \n",
       "3         9.8        6     3  \n",
       "4         9.4        5     4  \n",
       "...       ...      ...   ...  \n",
       "1138     11.0        6  1592  \n",
       "1139      9.5        6  1593  \n",
       "1140     10.5        5  1594  \n",
       "1141     11.2        6  1595  \n",
       "1142     10.2        5  1597  \n",
       "\n",
       "[1143 rows x 13 columns]"
      ]
     },
     "execution_count": 100,
     "metadata": {},
     "output_type": "execute_result"
    }
   ],
   "source": [
    "import pandas as pd\n",
    "import numpy as np\n",
    "df=pd.read_csv('task_2_Wine_Quality_Prediction.csv')\n",
    "df"
   ]
  },
  {
   "cell_type": "code",
   "execution_count": 101,
   "id": "429436bc",
   "metadata": {},
   "outputs": [],
   "source": [
    "#Removing all the null values(if present)from each and every column."
   ]
  },
  {
   "cell_type": "code",
   "execution_count": 102,
   "id": "e3192908",
   "metadata": {},
   "outputs": [],
   "source": [
    "df = df.dropna(subset=['fixed acidity'])\n",
    "df['fixed acidity'] = df['fixed acidity'].fillna(df['fixed acidity'].mean())"
   ]
  },
  {
   "cell_type": "code",
   "execution_count": 103,
   "id": "fc4f81b9",
   "metadata": {},
   "outputs": [],
   "source": [
    "df = df.dropna(subset=['volatile acidity'])\n",
    "df['volatile acidity'] = df['volatile acidity'].fillna(df['volatile acidity'].mean())"
   ]
  },
  {
   "cell_type": "code",
   "execution_count": 104,
   "id": "1b68bdeb",
   "metadata": {},
   "outputs": [],
   "source": [
    "df = df.dropna(subset=['citric acid'])\n",
    "df['citric acid'] = df['citric acid'].fillna(df['citric acid'].mean())"
   ]
  },
  {
   "cell_type": "code",
   "execution_count": 105,
   "id": "8d85a4e1",
   "metadata": {},
   "outputs": [],
   "source": [
    "df = df.dropna(subset=['residual sugar'])\n",
    "df['residual sugar'] = df['residual sugar'].fillna(df['residual sugar'].mean())"
   ]
  },
  {
   "cell_type": "code",
   "execution_count": 106,
   "id": "e3f0397b",
   "metadata": {},
   "outputs": [],
   "source": [
    "df = df.dropna(subset=['chlorides'])\n",
    "df['chlorides'] = df['chlorides'].fillna(df['chlorides'].mean())"
   ]
  },
  {
   "cell_type": "code",
   "execution_count": 107,
   "id": "fb4fa605",
   "metadata": {},
   "outputs": [],
   "source": [
    "df = df.dropna(subset=['free sulfur dioxide'])\n",
    "df['free sulfur dioxide'] = df['free sulfur dioxide'].fillna(df['free sulfur dioxide'].mean())"
   ]
  },
  {
   "cell_type": "code",
   "execution_count": 108,
   "id": "d0c6e91f",
   "metadata": {},
   "outputs": [],
   "source": [
    "df = df.dropna(subset=['density'])\n",
    "df['density'] = df['density'].fillna(df['density'].mean())"
   ]
  },
  {
   "cell_type": "code",
   "execution_count": 109,
   "id": "823a4918",
   "metadata": {},
   "outputs": [],
   "source": [
    "df = df.dropna(subset=['pH'])\n",
    "df['pH'] = df['pH'].fillna(df['pH'].mean())"
   ]
  },
  {
   "cell_type": "code",
   "execution_count": 110,
   "id": "388ccd29",
   "metadata": {},
   "outputs": [],
   "source": [
    "df = df.dropna(subset=['sulphates'])\n",
    "df['sulphates'] = df['sulphates'].fillna(df['sulphates'].mean())"
   ]
  },
  {
   "cell_type": "code",
   "execution_count": 111,
   "id": "7f2f44fd",
   "metadata": {},
   "outputs": [],
   "source": [
    "df = df.dropna(subset=['alcohol'])\n",
    "df['alcohol'] = df['alcohol'].fillna(df['alcohol'].mean())"
   ]
  },
  {
   "cell_type": "code",
   "execution_count": 112,
   "id": "fb7381c7",
   "metadata": {},
   "outputs": [],
   "source": [
    "df = df.dropna(subset=['quality'])\n",
    "df['quality'] = df['quality'].fillna(df['quality'].mean())"
   ]
  },
  {
   "cell_type": "code",
   "execution_count": 113,
   "id": "d3ef98be",
   "metadata": {},
   "outputs": [],
   "source": [
    "df = df.dropna(subset=['Id'])\n",
    "df['Id'] = df['Id'].fillna(df['Id'].mean())"
   ]
  },
  {
   "cell_type": "code",
   "execution_count": 114,
   "id": "76355d22",
   "metadata": {},
   "outputs": [],
   "source": [
    "#Making the Machine Learning Model to predict the house prices\n",
    "#The Machine learning model can be made my using any of the regression method-\n",
    "#i)Linear Regression\n",
    "#ii)Logistic Regression\n",
    "#iii)Polynomial Regression\n",
    "#......etc\n",
    "#Task is asking to make the machine learning model using Linear regression"
   ]
  },
  {
   "cell_type": "code",
   "execution_count": 115,
   "id": "1bac77fa",
   "metadata": {},
   "outputs": [
    {
     "data": {
      "text/plain": [
       "array([[0.7  , 0.   ],\n",
       "       [0.88 , 0.   ],\n",
       "       [0.76 , 0.04 ],\n",
       "       ...,\n",
       "       [0.6  , 0.08 ],\n",
       "       [0.55 , 0.1  ],\n",
       "       [0.645, 0.12 ]])"
      ]
     },
     "execution_count": 115,
     "metadata": {},
     "output_type": "execute_result"
    }
   ],
   "source": [
    "x=df.iloc[:,1:3].values\n",
    "x"
   ]
  },
  {
   "cell_type": "code",
   "execution_count": 116,
   "id": "c342d9cd",
   "metadata": {},
   "outputs": [
    {
     "data": {
      "text/plain": [
       "array([5, 5, 5, ..., 5, 6, 5], dtype=int64)"
      ]
     },
     "execution_count": 116,
     "metadata": {},
     "output_type": "execute_result"
    }
   ],
   "source": [
    "y=df.iloc[:,11].values\n",
    "y"
   ]
  },
  {
   "cell_type": "code",
   "execution_count": 122,
   "id": "531bd4aa",
   "metadata": {},
   "outputs": [],
   "source": [
    "#Machine Learning Model\n",
    "from sklearn.linear_model import LinearRegression\n",
    "from sklearn.model_selection import train_test_split\n",
    "x_train,x_test,y_train,y_test = train_test_split(x,y,random_state = 0)\n",
    "model=LinearRegression()"
   ]
  },
  {
   "cell_type": "code",
   "execution_count": 123,
   "id": "9682f2ad",
   "metadata": {},
   "outputs": [
    {
     "data": {
      "text/html": [
       "<style>#sk-container-id-7 {color: black;background-color: white;}#sk-container-id-7 pre{padding: 0;}#sk-container-id-7 div.sk-toggleable {background-color: white;}#sk-container-id-7 label.sk-toggleable__label {cursor: pointer;display: block;width: 100%;margin-bottom: 0;padding: 0.3em;box-sizing: border-box;text-align: center;}#sk-container-id-7 label.sk-toggleable__label-arrow:before {content: \"▸\";float: left;margin-right: 0.25em;color: #696969;}#sk-container-id-7 label.sk-toggleable__label-arrow:hover:before {color: black;}#sk-container-id-7 div.sk-estimator:hover label.sk-toggleable__label-arrow:before {color: black;}#sk-container-id-7 div.sk-toggleable__content {max-height: 0;max-width: 0;overflow: hidden;text-align: left;background-color: #f0f8ff;}#sk-container-id-7 div.sk-toggleable__content pre {margin: 0.2em;color: black;border-radius: 0.25em;background-color: #f0f8ff;}#sk-container-id-7 input.sk-toggleable__control:checked~div.sk-toggleable__content {max-height: 200px;max-width: 100%;overflow: auto;}#sk-container-id-7 input.sk-toggleable__control:checked~label.sk-toggleable__label-arrow:before {content: \"▾\";}#sk-container-id-7 div.sk-estimator input.sk-toggleable__control:checked~label.sk-toggleable__label {background-color: #d4ebff;}#sk-container-id-7 div.sk-label input.sk-toggleable__control:checked~label.sk-toggleable__label {background-color: #d4ebff;}#sk-container-id-7 input.sk-hidden--visually {border: 0;clip: rect(1px 1px 1px 1px);clip: rect(1px, 1px, 1px, 1px);height: 1px;margin: -1px;overflow: hidden;padding: 0;position: absolute;width: 1px;}#sk-container-id-7 div.sk-estimator {font-family: monospace;background-color: #f0f8ff;border: 1px dotted black;border-radius: 0.25em;box-sizing: border-box;margin-bottom: 0.5em;}#sk-container-id-7 div.sk-estimator:hover {background-color: #d4ebff;}#sk-container-id-7 div.sk-parallel-item::after {content: \"\";width: 100%;border-bottom: 1px solid gray;flex-grow: 1;}#sk-container-id-7 div.sk-label:hover label.sk-toggleable__label {background-color: #d4ebff;}#sk-container-id-7 div.sk-serial::before {content: \"\";position: absolute;border-left: 1px solid gray;box-sizing: border-box;top: 0;bottom: 0;left: 50%;z-index: 0;}#sk-container-id-7 div.sk-serial {display: flex;flex-direction: column;align-items: center;background-color: white;padding-right: 0.2em;padding-left: 0.2em;position: relative;}#sk-container-id-7 div.sk-item {position: relative;z-index: 1;}#sk-container-id-7 div.sk-parallel {display: flex;align-items: stretch;justify-content: center;background-color: white;position: relative;}#sk-container-id-7 div.sk-item::before, #sk-container-id-7 div.sk-parallel-item::before {content: \"\";position: absolute;border-left: 1px solid gray;box-sizing: border-box;top: 0;bottom: 0;left: 50%;z-index: -1;}#sk-container-id-7 div.sk-parallel-item {display: flex;flex-direction: column;z-index: 1;position: relative;background-color: white;}#sk-container-id-7 div.sk-parallel-item:first-child::after {align-self: flex-end;width: 50%;}#sk-container-id-7 div.sk-parallel-item:last-child::after {align-self: flex-start;width: 50%;}#sk-container-id-7 div.sk-parallel-item:only-child::after {width: 0;}#sk-container-id-7 div.sk-dashed-wrapped {border: 1px dashed gray;margin: 0 0.4em 0.5em 0.4em;box-sizing: border-box;padding-bottom: 0.4em;background-color: white;}#sk-container-id-7 div.sk-label label {font-family: monospace;font-weight: bold;display: inline-block;line-height: 1.2em;}#sk-container-id-7 div.sk-label-container {text-align: center;}#sk-container-id-7 div.sk-container {/* jupyter's `normalize.less` sets `[hidden] { display: none; }` but bootstrap.min.css set `[hidden] { display: none !important; }` so we also need the `!important` here to be able to override the default hidden behavior on the sphinx rendered scikit-learn.org. See: https://github.com/scikit-learn/scikit-learn/issues/21755 */display: inline-block !important;position: relative;}#sk-container-id-7 div.sk-text-repr-fallback {display: none;}</style><div id=\"sk-container-id-7\" class=\"sk-top-container\"><div class=\"sk-text-repr-fallback\"><pre>LinearRegression()</pre><b>In a Jupyter environment, please rerun this cell to show the HTML representation or trust the notebook. <br />On GitHub, the HTML representation is unable to render, please try loading this page with nbviewer.org.</b></div><div class=\"sk-container\" hidden><div class=\"sk-item\"><div class=\"sk-estimator sk-toggleable\"><input class=\"sk-toggleable__control sk-hidden--visually\" id=\"sk-estimator-id-7\" type=\"checkbox\" checked><label for=\"sk-estimator-id-7\" class=\"sk-toggleable__label sk-toggleable__label-arrow\">LinearRegression</label><div class=\"sk-toggleable__content\"><pre>LinearRegression()</pre></div></div></div></div></div>"
      ],
      "text/plain": [
       "LinearRegression()"
      ]
     },
     "execution_count": 123,
     "metadata": {},
     "output_type": "execute_result"
    }
   ],
   "source": [
    "model.fit(x_train,y_train)"
   ]
  },
  {
   "cell_type": "code",
   "execution_count": 124,
   "id": "1fa29d55",
   "metadata": {},
   "outputs": [
    {
     "data": {
      "text/plain": [
       "array([5.22273365, 4.64544073, 5.27703563, 5.17174254, 5.93415669,\n",
       "       5.85494164, 5.9220578 , 5.9808764 , 5.63329892, 6.13397236,\n",
       "       5.02741421, 5.95549326, 5.19166892, 5.40797749, 5.4962054 ,\n",
       "       5.1126787 , 5.54376303, 5.79291439, 5.56035815, 5.10154035,\n",
       "       6.31245145, 5.30325669, 5.56238143, 5.97613494, 5.28179749,\n",
       "       5.73503591, 5.70397118, 5.9808764 , 5.57067899, 5.6410038 ,\n",
       "       5.7958778 , 5.54292512, 5.77750464, 6.07811717, 6.06483292,\n",
       "       5.30515735, 5.4037061 , 5.78555696, 5.6360171 , 5.36706198,\n",
       "       5.56949362, 5.65962219, 5.61147188, 5.94778839, 5.4187684 ,\n",
       "       5.62534881, 5.70540178, 5.9658141 , 6.17002379, 5.52514463,\n",
       "       5.45884599, 5.47307037, 5.85647445, 5.9994948 , 5.84876958,\n",
       "       5.4324001 , 5.34143361, 5.90793563, 4.85913334, 5.56890094,\n",
       "       5.50865174, 5.54233243, 5.97020812, 5.5399617 , 5.34488749,\n",
       "       5.69187229, 5.98917396, 5.23090859, 5.47141494, 5.56178875,\n",
       "       5.37595223, 5.59403885, 5.43620143, 5.77286539, 5.65819159,\n",
       "       6.12863822, 5.55418609, 6.08903069, 5.2058933 , 5.68510755,\n",
       "       5.54233243, 4.88807257, 5.72318226, 5.91316756, 6.00364358,\n",
       "       5.45304178, 5.06667428, 5.12857892, 5.27693341, 5.93830547,\n",
       "       6.07219034, 5.84793166, 5.08410732, 5.59961822, 5.91588574,\n",
       "       5.76422038, 5.17114986, 6.01040832, 5.45504466, 5.5585801 ,\n",
       "       3.75862463, 5.6711284 , 5.91529306, 5.42778125, 5.91410769,\n",
       "       5.7285164 , 5.5248994 , 5.73029445, 5.8546964 , 5.41936108,\n",
       "       5.88541369, 5.21431348, 5.54731913, 6.12271139, 5.40489146,\n",
       "       5.47166017, 5.96522142, 6.2890916 , 5.74002261, 6.06507815,\n",
       "       5.43002937, 5.86442456, 5.73503591, 5.6883162 , 6.06305487,\n",
       "       6.19777766, 5.69508094, 6.06804156, 5.2546363 , 5.95549326,\n",
       "       6.07159766, 5.96902275, 5.57280448, 5.02042463, 5.35911188,\n",
       "       5.73528115, 5.55146791, 6.01870588, 5.51778721, 5.81805229,\n",
       "       5.78674233, 5.27811878, 6.22587898, 6.20192644, 5.62416345,\n",
       "       5.92146512, 5.92739194, 5.94280169, 5.8768709 , 5.51470118,\n",
       "       5.46548811, 5.72318226, 5.75947892, 5.68737606, 5.35390035,\n",
       "       4.78453713, 6.06483292, 6.09080874, 5.95336777, 5.06062484,\n",
       "       5.73883724, 6.16646769, 5.50235706, 5.65996964, 5.57601313,\n",
       "       6.01277905, 6.12839298, 6.10621849, 5.41696995, 5.64989404,\n",
       "       5.8245718 , 5.23009108, 5.1033184 , 5.74037006, 5.80204986,\n",
       "       5.94457974, 5.8281279 , 5.807384  , 5.67586986, 5.27456268,\n",
       "       5.49502003, 5.03701975, 6.02547062, 5.7958778 , 5.41699035,\n",
       "       5.61147188, 6.20607522, 5.72861862, 5.41022561, 5.89845271,\n",
       "       6.03436086, 5.84402812, 5.45719056, 5.58218519, 6.0668562 ,\n",
       "       5.8245718 , 5.42706595, 5.78318623, 5.59759494, 5.75982637,\n",
       "       6.0446817 , 5.99534602, 5.99001188, 6.07159766, 5.09430554,\n",
       "       6.23145836, 5.55383864, 5.30278662, 5.94423229, 5.54317035,\n",
       "       6.19422156, 5.72673836, 5.94457974, 6.31245145, 5.9084261 ,\n",
       "       5.59522421, 5.77417337, 6.31245145, 5.78852037, 6.07574644,\n",
       "       5.51363843, 5.79172902, 5.10497383, 5.42207926, 5.88956247,\n",
       "       5.49205662, 5.94541766, 5.44141296, 5.46311738, 5.5298861 ,\n",
       "       6.05594268, 5.90462477, 5.44094289, 5.90403209, 5.79172902,\n",
       "       6.10147703, 5.51919741, 5.60850846, 5.81247292, 5.56154351,\n",
       "       5.76599843, 5.26305648, 5.58040714, 6.2518548 , 5.67705522,\n",
       "       5.30503473, 5.81889021, 5.08279933, 5.8568219 , 5.46667348,\n",
       "       5.36291321, 6.04917793, 5.10154035, 5.41699035, 6.06068414,\n",
       "       5.6962663 , 5.53818365, 5.39896463, 5.83879619, 5.23910394,\n",
       "       5.86857334, 5.97672763, 5.91267709, 6.1629116 , 5.47213024,\n",
       "       5.62297808, 5.59581689, 5.69271021, 5.85054763, 5.68737606,\n",
       "       5.35377773, 5.39338526, 5.50830429, 5.97554226, 5.90284672,\n",
       "       5.5399617 , 6.16029563, 5.73883724, 5.98502518, 5.80916205,\n",
       "       5.89892277, 6.0446817 , 4.80945021, 5.65843683, 6.06922693,\n",
       "       5.55477877])"
      ]
     },
     "execution_count": 124,
     "metadata": {},
     "output_type": "execute_result"
    }
   ],
   "source": [
    "#Predict the output\n",
    "y_pred = model.predict(x_test) #using the input testing values , we predict the output\n",
    "y_pred #PREDICTED VALUES"
   ]
  },
  {
   "cell_type": "code",
   "execution_count": 125,
   "id": "f5841746",
   "metadata": {},
   "outputs": [
    {
     "data": {
      "text/plain": [
       "array([5, 4, 6, 6, 5, 6, 5, 6, 6, 7, 5, 6, 6, 5, 6, 6, 6, 6, 5, 5, 6, 5,\n",
       "       7, 6, 5, 5, 5, 6, 6, 5, 6, 5, 5, 6, 5, 6, 6, 4, 5, 6, 5, 6, 6, 6,\n",
       "       5, 5, 5, 7, 8, 6, 6, 5, 5, 7, 5, 5, 5, 5, 5, 6, 6, 5, 6, 5, 6, 5,\n",
       "       6, 5, 5, 7, 5, 5, 6, 7, 6, 7, 6, 7, 5, 7, 5, 5, 6, 5, 6, 6, 6, 5,\n",
       "       5, 7, 6, 7, 4, 5, 6, 6, 5, 5, 5, 5, 3, 5, 8, 5, 6, 6, 6, 6, 5, 5,\n",
       "       5, 5, 5, 7, 6, 6, 6, 6, 6, 6, 5, 5, 5, 6, 6, 6, 6, 7, 5, 6, 7, 6,\n",
       "       6, 5, 6, 6, 5, 6, 6, 5, 5, 6, 6, 7, 5, 5, 6, 7, 6, 5, 5, 6, 6, 6,\n",
       "       5, 5, 5, 6, 5, 6, 5, 6, 5, 5, 5, 5, 7, 7, 7, 6, 5, 4, 5, 7, 6, 6,\n",
       "       6, 5, 5, 6, 5, 5, 5, 5, 5, 6, 5, 4, 4, 5, 7, 5, 5, 6, 6, 5, 5, 6,\n",
       "       6, 6, 5, 6, 4, 7, 7, 7, 5, 5, 5, 5, 6, 6, 6, 7, 5, 5, 6, 6, 5, 7,\n",
       "       6, 6, 6, 5, 5, 6, 7, 5, 5, 5, 6, 7, 5, 6, 6, 6, 6, 5, 5, 6, 7, 5,\n",
       "       6, 6, 6, 5, 6, 5, 7, 5, 6, 7, 5, 5, 6, 6, 5, 6, 6, 5, 5, 6, 5, 6,\n",
       "       6, 6, 5, 5, 5, 6, 6, 5, 6, 5, 6, 5, 7, 5, 7, 6, 6, 5, 6, 5, 7, 5],\n",
       "      dtype=int64)"
      ]
     },
     "execution_count": 125,
     "metadata": {},
     "output_type": "execute_result"
    }
   ],
   "source": [
    "y_test"
   ]
  },
  {
   "cell_type": "code",
   "execution_count": 127,
   "id": "028588d3",
   "metadata": {},
   "outputs": [
    {
     "data": {
      "text/plain": [
       "array([5.34488749])"
      ]
     },
     "execution_count": 127,
     "metadata": {},
     "output_type": "execute_result"
    }
   ],
   "source": [
    "#Indivisual Prediction for any input.\n",
    "model.predict([[0.700,0.00]])"
   ]
  },
  {
   "cell_type": "code",
   "execution_count": 128,
   "id": "67142572",
   "metadata": {},
   "outputs": [
    {
     "data": {
      "text/plain": [
       "0.1889606780994889"
      ]
     },
     "execution_count": 128,
     "metadata": {},
     "output_type": "execute_result"
    }
   ],
   "source": [
    "from sklearn.metrics import r2_score\n",
    "accuracy = r2_score(y_test,y_pred)\n",
    "accuracy#The error in the machine model is 0.1889"
   ]
  }
 ],
 "metadata": {
  "kernelspec": {
   "display_name": "Python 3 (ipykernel)",
   "language": "python",
   "name": "python3"
  },
  "language_info": {
   "codemirror_mode": {
    "name": "ipython",
    "version": 3
   },
   "file_extension": ".py",
   "mimetype": "text/x-python",
   "name": "python",
   "nbconvert_exporter": "python",
   "pygments_lexer": "ipython3",
   "version": "3.11.3"
  }
 },
 "nbformat": 4,
 "nbformat_minor": 5
}
